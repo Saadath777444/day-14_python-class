{
 "cells": [
  {
   "cell_type": "code",
   "execution_count": null,
   "id": "2590f060",
   "metadata": {},
   "outputs": [],
   "source": [
    "Introduction to file handling in python :"
   ]
  },
  {
   "cell_type": "code",
   "execution_count": null,
   "id": "2954d078",
   "metadata": {},
   "outputs": [],
   "source": [
    "file handling modes:\n",
    "    r...>open an existing  for the reading operation\n",
    "    w...>open an existing for the write operation,for suppose if the file is containing certain information already \n",
    "    it will be overwritten with the new input given to it.\n",
    "    a....>append mode.....> it will be adding the new data along with the previous data existing on the file"
   ]
  },
  {
   "cell_type": "code",
   "execution_count": null,
   "id": "a966a073",
   "metadata": {},
   "outputs": [],
   "source": []
  },
  {
   "cell_type": "code",
   "execution_count": 1,
   "id": "4b9f5585",
   "metadata": {},
   "outputs": [
    {
     "name": "stdout",
     "output_type": "stream",
     "text": [
      "123\n",
      "\n",
      "456\n",
      "\n",
      "789\n"
     ]
    }
   ],
   "source": [
    "file = open('Numbers.txt','r')\n",
    "for x in file:\n",
    "    print(x)"
   ]
  },
  {
   "cell_type": "code",
   "execution_count": 2,
   "id": "fc5d76e5",
   "metadata": {},
   "outputs": [
    {
     "name": "stdout",
     "output_type": "stream",
     "text": [
      "123\n",
      "456\n",
      "789\n"
     ]
    }
   ],
   "source": [
    "file = open('Numbers.txt','r')\n",
    "print(file.read())"
   ]
  },
  {
   "cell_type": "code",
   "execution_count": null,
   "id": "2cc9b651",
   "metadata": {},
   "outputs": [],
   "source": []
  },
  {
   "cell_type": "code",
   "execution_count": 4,
   "id": "a591ab03",
   "metadata": {},
   "outputs": [
    {
     "name": "stdout",
     "output_type": "stream",
     "text": [
      "123\n",
      "456\n",
      "789\n"
     ]
    }
   ],
   "source": [
    "with open('Numbers.txt') as file:\n",
    "    data = file.read()\n",
    "print(data)    "
   ]
  },
  {
   "cell_type": "code",
   "execution_count": null,
   "id": "2d7a1f73",
   "metadata": {},
   "outputs": [],
   "source": []
  },
  {
   "cell_type": "code",
   "execution_count": 5,
   "id": "5cb14796",
   "metadata": {},
   "outputs": [
    {
     "name": "stdout",
     "output_type": "stream",
     "text": [
      "123\n",
      "456\n",
      "789\n"
     ]
    }
   ],
   "source": [
    "with open('Numbers.txt') as x:\n",
    "    data = x.read()\n",
    "print(data)    "
   ]
  },
  {
   "cell_type": "code",
   "execution_count": null,
   "id": "5a4e28fd",
   "metadata": {},
   "outputs": [],
   "source": []
  },
  {
   "cell_type": "code",
   "execution_count": 6,
   "id": "f220968c",
   "metadata": {},
   "outputs": [],
   "source": [
    "file = open('Numbers.txt','w')\n",
    "file.write(\"This is the command\")\n",
    "file.write(\"this will override previous info on the file\")\n",
    "file.close()"
   ]
  },
  {
   "cell_type": "code",
   "execution_count": 7,
   "id": "0098be09",
   "metadata": {},
   "outputs": [
    {
     "name": "stdout",
     "output_type": "stream",
     "text": [
      "This is the commandthis will override previous info on the file\n"
     ]
    }
   ],
   "source": [
    "with open('Numbers.txt') as x:\n",
    "    data = x.read()\n",
    "print(data)    "
   ]
  },
  {
   "cell_type": "code",
   "execution_count": null,
   "id": "1c8d5bee",
   "metadata": {},
   "outputs": [],
   "source": []
  },
  {
   "cell_type": "code",
   "execution_count": null,
   "id": "89e70d1e",
   "metadata": {},
   "outputs": [],
   "source": [
    "# with function implimentation"
   ]
  },
  {
   "cell_type": "code",
   "execution_count": 8,
   "id": "74f26585",
   "metadata": {},
   "outputs": [],
   "source": [
    "with open('Numbers.txt','w') as f:\n",
    "    f.write(\"this is a test\")"
   ]
  },
  {
   "cell_type": "code",
   "execution_count": 9,
   "id": "7b97f0c9",
   "metadata": {},
   "outputs": [
    {
     "name": "stdout",
     "output_type": "stream",
     "text": [
      "this is a test\n"
     ]
    }
   ],
   "source": [
    "with open('Numbers.txt') as x:\n",
    "    data = x.read()\n",
    "print(data)"
   ]
  },
  {
   "cell_type": "code",
   "execution_count": null,
   "id": "5f092a75",
   "metadata": {},
   "outputs": [],
   "source": []
  },
  {
   "cell_type": "code",
   "execution_count": null,
   "id": "2ddd3941",
   "metadata": {},
   "outputs": [],
   "source": [
    "#append mode:"
   ]
  },
  {
   "cell_type": "code",
   "execution_count": null,
   "id": "5778bb51",
   "metadata": {},
   "outputs": [],
   "source": []
  },
  {
   "cell_type": "code",
   "execution_count": 10,
   "id": "74696f5c",
   "metadata": {},
   "outputs": [],
   "source": [
    "file = open('Numbers.txt','a')\n",
    "file.write(\"\\nthis will add a line\")\n",
    "file.close()"
   ]
  },
  {
   "cell_type": "code",
   "execution_count": 11,
   "id": "1451b910",
   "metadata": {},
   "outputs": [
    {
     "name": "stdout",
     "output_type": "stream",
     "text": [
      "this is a test\n",
      "this will add a line\n"
     ]
    }
   ],
   "source": [
    "with open('Numbers.txt') as x:\n",
    "    data = x.read()\n",
    "print(data)"
   ]
  },
  {
   "cell_type": "code",
   "execution_count": null,
   "id": "6e1382f7",
   "metadata": {},
   "outputs": [],
   "source": []
  },
  {
   "cell_type": "code",
   "execution_count": null,
   "id": "97ba5021",
   "metadata": {},
   "outputs": [],
   "source": []
  },
  {
   "cell_type": "code",
   "execution_count": null,
   "id": "ddfb3bce",
   "metadata": {},
   "outputs": [],
   "source": []
  },
  {
   "cell_type": "code",
   "execution_count": null,
   "id": "3c5c6672",
   "metadata": {},
   "outputs": [],
   "source": []
  },
  {
   "cell_type": "code",
   "execution_count": null,
   "id": "8a13370e",
   "metadata": {},
   "outputs": [],
   "source": []
  }
 ],
 "metadata": {
  "kernelspec": {
   "display_name": "Python 3 (ipykernel)",
   "language": "python",
   "name": "python3"
  },
  "language_info": {
   "codemirror_mode": {
    "name": "ipython",
    "version": 3
   },
   "file_extension": ".py",
   "mimetype": "text/x-python",
   "name": "python",
   "nbconvert_exporter": "python",
   "pygments_lexer": "ipython3",
   "version": "3.11.3"
  }
 },
 "nbformat": 4,
 "nbformat_minor": 5
}
